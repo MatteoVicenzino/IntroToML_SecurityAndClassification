{
 "cells": [
  {
   "cell_type": "markdown",
   "id": "2adzcfnbRZZY",
   "metadata": {
    "id": "2adzcfnbRZZY"
   },
   "source": [
    "# Challenge $0$\n"
   ]
  },
  {
   "cell_type": "markdown",
   "id": "eccd6e67",
   "metadata": {
    "id": "eccd6e67"
   },
   "source": [
    "## 1. ***Data cleaning with Pandas***\n",
    "\n",
    "Use the library `pandas` to load and clean the required dataset."
   ]
  },
  {
   "cell_type": "code",
   "execution_count": 42,
   "id": "39ae18d1",
   "metadata": {
    "id": "39ae18d1"
   },
   "outputs": [],
   "source": [
    "import numpy as np\n",
    "import matplotlib.pyplot as plt\n",
    "import pandas as pd\n",
    "import os"
   ]
  },
  {
   "cell_type": "markdown",
   "id": "6XPiwcNUPJAw",
   "metadata": {
    "id": "6XPiwcNUPJAw"
   },
   "source": [
    "Obtain the data file"
   ]
  },
  {
   "cell_type": "code",
   "execution_count": 43,
   "id": "AkGFWaHZOi-l",
   "metadata": {
    "colab": {
     "base_uri": "https://localhost:8080/"
    },
    "id": "AkGFWaHZOi-l",
    "outputId": "d3f5701e-813f-4a20-b4f6-9a696a13db68"
   },
   "outputs": [
    {
     "name": "stdout",
     "output_type": "stream",
     "text": [
      "File already exists\n",
      "File is readable\n"
     ]
    }
   ],
   "source": [
    "FFILE = './50_Startups.csv'\n",
    "if os.path.isfile(FFILE):\n",
    "    print(\"File already exists\")\n",
    "    if os.access(FFILE, os.R_OK):\n",
    "        print (\"File is readable\")\n",
    "    else:\n",
    "        print (\"File is not readable, removing it and downloading again\")\n",
    "        !rm FFILE\n",
    "        !curl \"https://raw.github.com/alexdepremia/ML_IADA_UTs/main/challenge_0/50_Startups.csv\"\n",
    "else:\n",
    "    print(\"Either the file is missing or not readable, download it\")\n",
    "    !curl \"https://raw.github.com/alexdepremia/ML_IADA_UTs/main/challenge_0/50_Startups.csv\""
   ]
  },
  {
   "cell_type": "code",
   "execution_count": 44,
   "id": "984f3c35",
   "metadata": {
    "id": "984f3c35"
   },
   "outputs": [],
   "source": [
    "import pandas as pd\n",
    "\n",
    "# Load the dataset using Pandas\n",
    "data = pd.read_csv('50_Startups.csv')\n",
    "\n",
    "# Extracting the features (independent variables) and labels (dependent variable)\n",
    "# Features (X) are taken from all columns except the last two\n",
    "features = data.iloc[:, :-2].values\n",
    "\n",
    "# Labels (y) are taken from the third column (index 3, considering the 0-based index in Python)\n",
    "labels = data.iloc[:, 3].values\n",
    "\n",
    "df = pd.DataFrame(data)"
   ]
  },
  {
   "cell_type": "code",
   "execution_count": 45,
   "id": "d4ef5d4c",
   "metadata": {
    "colab": {
     "base_uri": "https://localhost:8080/"
    },
    "id": "d4ef5d4c",
    "outputId": "cf3c7846-be10-4336-c752-ab72ab27446f"
   },
   "outputs": [
    {
     "data": {
      "text/plain": [
       "array(['New York', 'California', 'Florida', 'New York', 'Florida',\n",
       "       'New York', 'California', 'Florida', 'New York', 'California',\n",
       "       'Florida', 'California', 'Florida', 'California', 'Florida',\n",
       "       'New York', 'California', 'New York', 'Florida', 'New York',\n",
       "       'California', 'New York', 'Florida', 'Florida', 'New York',\n",
       "       'California', 'Florida', 'New York', 'Florida', 'New York',\n",
       "       'Florida', 'New York', 'California', 'Florida', 'California',\n",
       "       'New York', 'Florida', 'California', 'New York', 'California',\n",
       "       'California', 'Florida', 'California', 'New York', 'California',\n",
       "       'New York', 'Florida', 'California', 'New York', 'California'],\n",
       "      dtype=object)"
      ]
     },
     "execution_count": 45,
     "metadata": {},
     "output_type": "execute_result"
    }
   ],
   "source": [
    "labels"
   ]
  },
  {
   "cell_type": "markdown",
   "id": "6c52b5bb",
   "metadata": {
    "id": "6c52b5bb"
   },
   "source": [
    "***Play with data***"
   ]
  },
  {
   "cell_type": "code",
   "execution_count": 46,
   "id": "6bc66e09",
   "metadata": {
    "colab": {
     "base_uri": "https://localhost:8080/"
    },
    "id": "6bc66e09",
    "outputId": "b6caed56-df56-4145-e1e3-74da105f824a",
    "scrolled": true
   },
   "outputs": [
    {
     "data": {
      "text/plain": [
       "(50, 5)"
      ]
     },
     "execution_count": 46,
     "metadata": {},
     "output_type": "execute_result"
    }
   ],
   "source": [
    "df.shape"
   ]
  },
  {
   "cell_type": "code",
   "execution_count": 47,
   "id": "9f5107f7",
   "metadata": {
    "colab": {
     "base_uri": "https://localhost:8080/",
     "height": 263
    },
    "id": "9f5107f7",
    "outputId": "5bb6e213-9082-45a4-b49d-515803201e70"
   },
   "outputs": [
    {
     "data": {
      "text/html": [
       "<div>\n",
       "<style scoped>\n",
       "    .dataframe tbody tr th:only-of-type {\n",
       "        vertical-align: middle;\n",
       "    }\n",
       "\n",
       "    .dataframe tbody tr th {\n",
       "        vertical-align: top;\n",
       "    }\n",
       "\n",
       "    .dataframe thead th {\n",
       "        text-align: right;\n",
       "    }\n",
       "</style>\n",
       "<table border=\"1\" class=\"dataframe\">\n",
       "  <thead>\n",
       "    <tr style=\"text-align: right;\">\n",
       "      <th></th>\n",
       "      <th>R&amp;D Spend</th>\n",
       "      <th>Administration</th>\n",
       "      <th>Marketing Spend</th>\n",
       "      <th>State</th>\n",
       "      <th>Profit</th>\n",
       "    </tr>\n",
       "  </thead>\n",
       "  <tbody>\n",
       "    <tr>\n",
       "      <th>0</th>\n",
       "      <td>165349.20</td>\n",
       "      <td>136897.80</td>\n",
       "      <td>471784.10</td>\n",
       "      <td>New York</td>\n",
       "      <td>192261.83</td>\n",
       "    </tr>\n",
       "    <tr>\n",
       "      <th>1</th>\n",
       "      <td>162597.70</td>\n",
       "      <td>151377.59</td>\n",
       "      <td>443898.53</td>\n",
       "      <td>California</td>\n",
       "      <td>191792.06</td>\n",
       "    </tr>\n",
       "    <tr>\n",
       "      <th>2</th>\n",
       "      <td>153441.51</td>\n",
       "      <td>101145.55</td>\n",
       "      <td>407934.54</td>\n",
       "      <td>Florida</td>\n",
       "      <td>191050.39</td>\n",
       "    </tr>\n",
       "    <tr>\n",
       "      <th>3</th>\n",
       "      <td>144372.41</td>\n",
       "      <td>118671.85</td>\n",
       "      <td>383199.62</td>\n",
       "      <td>New York</td>\n",
       "      <td>182901.99</td>\n",
       "    </tr>\n",
       "    <tr>\n",
       "      <th>4</th>\n",
       "      <td>142107.34</td>\n",
       "      <td>91391.77</td>\n",
       "      <td>366168.42</td>\n",
       "      <td>Florida</td>\n",
       "      <td>166187.94</td>\n",
       "    </tr>\n",
       "  </tbody>\n",
       "</table>\n",
       "</div>"
      ],
      "text/plain": [
       "   R&D Spend  Administration  Marketing Spend       State     Profit\n",
       "0  165349.20       136897.80        471784.10    New York  192261.83\n",
       "1  162597.70       151377.59        443898.53  California  191792.06\n",
       "2  153441.51       101145.55        407934.54     Florida  191050.39\n",
       "3  144372.41       118671.85        383199.62    New York  182901.99\n",
       "4  142107.34        91391.77        366168.42     Florida  166187.94"
      ]
     },
     "execution_count": 47,
     "metadata": {},
     "output_type": "execute_result"
    }
   ],
   "source": [
    "df.replace(to_replace = 0.00, value = df.mean(axis=0, numeric_only=True), inplace=True)  # inject the mean of the column when value is 0\n",
    "df.head()"
   ]
  },
  {
   "cell_type": "markdown",
   "id": "c-RZI0p4Q7TW",
   "metadata": {
    "id": "c-RZI0p4Q7TW"
   },
   "source": [
    " **`df.replace()` function:**\n",
    "   - This function is used to replace specific values within a DataFrame (`df`) with another value.\n",
    "   - The parameters used are:\n",
    "     - `to_replace=0.00`: This specifies the value in the DataFrame that needs to be replaced, in this case, `0.00`.\n",
    "     - `value=df.mean(axis=0)`: This sets the replacement value for the matched condition. Here, `df.mean(axis=0)` calculates the mean for each column along the rows (axis=0) of the DataFrame `df`. The mean value for each column will replace the `0.00` values.\n",
    "     - `inplace=True`: This parameter ensures that the modification is done directly on the original DataFrame (`df`) without creating a new DataFrame. If `inplace` is set to `True`, the original DataFrame is modified."
   ]
  },
  {
   "cell_type": "markdown",
   "id": "3bfef008",
   "metadata": {
    "id": "3bfef008"
   },
   "source": [
    "***Select two categories for binary classification***"
   ]
  },
  {
   "cell_type": "code",
   "execution_count": 48,
   "id": "57f10ca0",
   "metadata": {
    "id": "57f10ca0"
   },
   "outputs": [],
   "source": [
    "df_sel=df[(df.State==\"California\") | (df.State==\"Florida\")]"
   ]
  },
  {
   "cell_type": "code",
   "execution_count": 49,
   "id": "add6c146",
   "metadata": {
    "colab": {
     "base_uri": "https://localhost:8080/",
     "height": 206
    },
    "id": "add6c146",
    "outputId": "0f681332-4913-47f8-8640-f7db53b8b7e8"
   },
   "outputs": [
    {
     "data": {
      "text/html": [
       "<div>\n",
       "<style scoped>\n",
       "    .dataframe tbody tr th:only-of-type {\n",
       "        vertical-align: middle;\n",
       "    }\n",
       "\n",
       "    .dataframe tbody tr th {\n",
       "        vertical-align: top;\n",
       "    }\n",
       "\n",
       "    .dataframe thead th {\n",
       "        text-align: right;\n",
       "    }\n",
       "</style>\n",
       "<table border=\"1\" class=\"dataframe\">\n",
       "  <thead>\n",
       "    <tr style=\"text-align: right;\">\n",
       "      <th></th>\n",
       "      <th>R&amp;D Spend</th>\n",
       "      <th>Administration</th>\n",
       "      <th>Marketing Spend</th>\n",
       "      <th>State</th>\n",
       "      <th>Profit</th>\n",
       "    </tr>\n",
       "  </thead>\n",
       "  <tbody>\n",
       "    <tr>\n",
       "      <th>1</th>\n",
       "      <td>162597.70</td>\n",
       "      <td>151377.59</td>\n",
       "      <td>443898.53</td>\n",
       "      <td>California</td>\n",
       "      <td>191792.06</td>\n",
       "    </tr>\n",
       "    <tr>\n",
       "      <th>2</th>\n",
       "      <td>153441.51</td>\n",
       "      <td>101145.55</td>\n",
       "      <td>407934.54</td>\n",
       "      <td>Florida</td>\n",
       "      <td>191050.39</td>\n",
       "    </tr>\n",
       "    <tr>\n",
       "      <th>4</th>\n",
       "      <td>142107.34</td>\n",
       "      <td>91391.77</td>\n",
       "      <td>366168.42</td>\n",
       "      <td>Florida</td>\n",
       "      <td>166187.94</td>\n",
       "    </tr>\n",
       "    <tr>\n",
       "      <th>6</th>\n",
       "      <td>134615.46</td>\n",
       "      <td>147198.87</td>\n",
       "      <td>127716.82</td>\n",
       "      <td>California</td>\n",
       "      <td>156122.51</td>\n",
       "    </tr>\n",
       "    <tr>\n",
       "      <th>7</th>\n",
       "      <td>130298.13</td>\n",
       "      <td>145530.06</td>\n",
       "      <td>323876.68</td>\n",
       "      <td>Florida</td>\n",
       "      <td>155752.60</td>\n",
       "    </tr>\n",
       "  </tbody>\n",
       "</table>\n",
       "</div>"
      ],
      "text/plain": [
       "   R&D Spend  Administration  Marketing Spend       State     Profit\n",
       "1  162597.70       151377.59        443898.53  California  191792.06\n",
       "2  153441.51       101145.55        407934.54     Florida  191050.39\n",
       "4  142107.34        91391.77        366168.42     Florida  166187.94\n",
       "6  134615.46       147198.87        127716.82  California  156122.51\n",
       "7  130298.13       145530.06        323876.68     Florida  155752.60"
      ]
     },
     "execution_count": 49,
     "metadata": {},
     "output_type": "execute_result"
    }
   ],
   "source": [
    "df_sel.head() # column title and first rows of the dataset"
   ]
  },
  {
   "cell_type": "code",
   "execution_count": 50,
   "id": "32984bcc",
   "metadata": {
    "colab": {
     "base_uri": "https://localhost:8080/"
    },
    "id": "32984bcc",
    "outputId": "5d110736-c5ca-4ee5-dd89-2fd922a4c08c"
   },
   "outputs": [
    {
     "data": {
      "text/plain": [
       "R&D Spend          float64\n",
       "Administration     float64\n",
       "Marketing Spend    float64\n",
       "State               object\n",
       "Profit             float64\n",
       "dtype: object"
      ]
     },
     "execution_count": 50,
     "metadata": {},
     "output_type": "execute_result"
    }
   ],
   "source": [
    "df_sel.dtypes # type of each column"
   ]
  },
  {
   "cell_type": "markdown",
   "id": "0784375e",
   "metadata": {
    "id": "0784375e"
   },
   "source": [
    "***Encode categorical data***\n",
    "\n",
    "One-hot encoding of categorical feature _State_\n",
    "\n",
    "One-Hot Encoding is a technique used in machine learning to handle categorical variables by transforming them into a format that can be easily utilized by algorithms.\n",
    "\n",
    "Imagine having a categorical variable, such as colors: red, green, and blue. With One-Hot Encoding, each color becomes a new binary column. If an observation has a specific color, the column corresponding to that color will be set to 1, while the other columns will be set to 0.\n",
    "\n",
    "For example:\n",
    "- If you have categories \"red\", \"green\", \"blue\", and you want to encode them using One-Hot Encoding:\n",
    "  - \"red\" becomes [1, 0, 0]\n",
    "  - \"green\" becomes [0, 1, 0]\n",
    "  - \"blue\" becomes [0, 0, 1]\n",
    "\n",
    "This helps machine learning algorithms to understand and work with these categorical variables more effectively, as it doesn't impose an order or hierarchy among the categories but rather represents them in a form that the algorithm can interpret more efficiently."
   ]
  },
  {
   "cell_type": "code",
   "execution_count": 51,
   "id": "0a6b154f",
   "metadata": {
    "id": "0a6b154f"
   },
   "outputs": [],
   "source": [
    "df_one = pd.get_dummies(df_sel[\"State\"], dtype=int)"
   ]
  },
  {
   "cell_type": "code",
   "execution_count": 52,
   "id": "3f282229",
   "metadata": {
    "colab": {
     "base_uri": "https://localhost:8080/",
     "height": 206
    },
    "id": "3f282229",
    "outputId": "af6ae211-c29f-4e55-e9f3-02fded7df40c",
    "scrolled": true
   },
   "outputs": [
    {
     "data": {
      "text/html": [
       "<div>\n",
       "<style scoped>\n",
       "    .dataframe tbody tr th:only-of-type {\n",
       "        vertical-align: middle;\n",
       "    }\n",
       "\n",
       "    .dataframe tbody tr th {\n",
       "        vertical-align: top;\n",
       "    }\n",
       "\n",
       "    .dataframe thead th {\n",
       "        text-align: right;\n",
       "    }\n",
       "</style>\n",
       "<table border=\"1\" class=\"dataframe\">\n",
       "  <thead>\n",
       "    <tr style=\"text-align: right;\">\n",
       "      <th></th>\n",
       "      <th>California</th>\n",
       "      <th>Florida</th>\n",
       "    </tr>\n",
       "  </thead>\n",
       "  <tbody>\n",
       "    <tr>\n",
       "      <th>1</th>\n",
       "      <td>1</td>\n",
       "      <td>0</td>\n",
       "    </tr>\n",
       "    <tr>\n",
       "      <th>2</th>\n",
       "      <td>0</td>\n",
       "      <td>1</td>\n",
       "    </tr>\n",
       "    <tr>\n",
       "      <th>4</th>\n",
       "      <td>0</td>\n",
       "      <td>1</td>\n",
       "    </tr>\n",
       "    <tr>\n",
       "      <th>6</th>\n",
       "      <td>1</td>\n",
       "      <td>0</td>\n",
       "    </tr>\n",
       "    <tr>\n",
       "      <th>7</th>\n",
       "      <td>0</td>\n",
       "      <td>1</td>\n",
       "    </tr>\n",
       "  </tbody>\n",
       "</table>\n",
       "</div>"
      ],
      "text/plain": [
       "   California  Florida\n",
       "1           1        0\n",
       "2           0        1\n",
       "4           0        1\n",
       "6           1        0\n",
       "7           0        1"
      ]
     },
     "execution_count": 52,
     "metadata": {},
     "output_type": "execute_result"
    }
   ],
   "source": [
    "df_one.head()"
   ]
  },
  {
   "cell_type": "code",
   "execution_count": 53,
   "id": "74e5d9d7",
   "metadata": {
    "id": "74e5d9d7"
   },
   "outputs": [
    {
     "data": {
      "text/html": [
       "<div>\n",
       "<style scoped>\n",
       "    .dataframe tbody tr th:only-of-type {\n",
       "        vertical-align: middle;\n",
       "    }\n",
       "\n",
       "    .dataframe tbody tr th {\n",
       "        vertical-align: top;\n",
       "    }\n",
       "\n",
       "    .dataframe thead th {\n",
       "        text-align: right;\n",
       "    }\n",
       "</style>\n",
       "<table border=\"1\" class=\"dataframe\">\n",
       "  <thead>\n",
       "    <tr style=\"text-align: right;\">\n",
       "      <th></th>\n",
       "      <th>State</th>\n",
       "      <th>R&amp;D Spend</th>\n",
       "      <th>Administration</th>\n",
       "      <th>Marketing Spend</th>\n",
       "      <th>Profit</th>\n",
       "    </tr>\n",
       "  </thead>\n",
       "  <tbody>\n",
       "    <tr>\n",
       "      <th>1</th>\n",
       "      <td>1</td>\n",
       "      <td>162597.70</td>\n",
       "      <td>151377.59</td>\n",
       "      <td>443898.53</td>\n",
       "      <td>191792.06</td>\n",
       "    </tr>\n",
       "    <tr>\n",
       "      <th>2</th>\n",
       "      <td>0</td>\n",
       "      <td>153441.51</td>\n",
       "      <td>101145.55</td>\n",
       "      <td>407934.54</td>\n",
       "      <td>191050.39</td>\n",
       "    </tr>\n",
       "    <tr>\n",
       "      <th>4</th>\n",
       "      <td>0</td>\n",
       "      <td>142107.34</td>\n",
       "      <td>91391.77</td>\n",
       "      <td>366168.42</td>\n",
       "      <td>166187.94</td>\n",
       "    </tr>\n",
       "    <tr>\n",
       "      <th>6</th>\n",
       "      <td>1</td>\n",
       "      <td>134615.46</td>\n",
       "      <td>147198.87</td>\n",
       "      <td>127716.82</td>\n",
       "      <td>156122.51</td>\n",
       "    </tr>\n",
       "    <tr>\n",
       "      <th>7</th>\n",
       "      <td>0</td>\n",
       "      <td>130298.13</td>\n",
       "      <td>145530.06</td>\n",
       "      <td>323876.68</td>\n",
       "      <td>155752.60</td>\n",
       "    </tr>\n",
       "  </tbody>\n",
       "</table>\n",
       "</div>"
      ],
      "text/plain": [
       "   State  R&D Spend  Administration  Marketing Spend     Profit\n",
       "1      1  162597.70       151377.59        443898.53  191792.06\n",
       "2      0  153441.51       101145.55        407934.54  191050.39\n",
       "4      0  142107.34        91391.77        366168.42  166187.94\n",
       "6      1  134615.46       147198.87        127716.82  156122.51\n",
       "7      0  130298.13       145530.06        323876.68  155752.60"
      ]
     },
     "execution_count": 53,
     "metadata": {},
     "output_type": "execute_result"
    }
   ],
   "source": [
    "# construct the final dataset that you will use for learning and prediction\n",
    "df_fin = pd.concat((df_one, df_sel), axis=1)\n",
    "df_fin = df_fin.drop([\"Florida\"], axis=1)\n",
    "df_fin = df_fin.drop([\"State\"], axis=1)\n",
    "# California is class 1, Florida is class 0\n",
    "df_fin = df_fin.rename(columns={\"California\": \"State\"})\n",
    "df_fin.head()"
   ]
  },
  {
   "cell_type": "code",
   "execution_count": 54,
   "id": "QlHeJ5ePRi6U",
   "metadata": {
    "colab": {
     "base_uri": "https://localhost:8080/",
     "height": 206
    },
    "id": "QlHeJ5ePRi6U",
    "outputId": "9f8088d0-741a-4a67-c74e-90537fef9752"
   },
   "outputs": [
    {
     "data": {
      "text/html": [
       "<div>\n",
       "<style scoped>\n",
       "    .dataframe tbody tr th:only-of-type {\n",
       "        vertical-align: middle;\n",
       "    }\n",
       "\n",
       "    .dataframe tbody tr th {\n",
       "        vertical-align: top;\n",
       "    }\n",
       "\n",
       "    .dataframe thead th {\n",
       "        text-align: right;\n",
       "    }\n",
       "</style>\n",
       "<table border=\"1\" class=\"dataframe\">\n",
       "  <thead>\n",
       "    <tr style=\"text-align: right;\">\n",
       "      <th></th>\n",
       "      <th>State</th>\n",
       "      <th>R&amp;D Spend</th>\n",
       "      <th>Administration</th>\n",
       "      <th>Marketing Spend</th>\n",
       "      <th>Profit</th>\n",
       "    </tr>\n",
       "  </thead>\n",
       "  <tbody>\n",
       "    <tr>\n",
       "      <th>1</th>\n",
       "      <td>1</td>\n",
       "      <td>162597.70</td>\n",
       "      <td>151377.59</td>\n",
       "      <td>443898.53</td>\n",
       "      <td>191792.06</td>\n",
       "    </tr>\n",
       "    <tr>\n",
       "      <th>2</th>\n",
       "      <td>0</td>\n",
       "      <td>153441.51</td>\n",
       "      <td>101145.55</td>\n",
       "      <td>407934.54</td>\n",
       "      <td>191050.39</td>\n",
       "    </tr>\n",
       "    <tr>\n",
       "      <th>4</th>\n",
       "      <td>0</td>\n",
       "      <td>142107.34</td>\n",
       "      <td>91391.77</td>\n",
       "      <td>366168.42</td>\n",
       "      <td>166187.94</td>\n",
       "    </tr>\n",
       "    <tr>\n",
       "      <th>6</th>\n",
       "      <td>1</td>\n",
       "      <td>134615.46</td>\n",
       "      <td>147198.87</td>\n",
       "      <td>127716.82</td>\n",
       "      <td>156122.51</td>\n",
       "    </tr>\n",
       "    <tr>\n",
       "      <th>7</th>\n",
       "      <td>0</td>\n",
       "      <td>130298.13</td>\n",
       "      <td>145530.06</td>\n",
       "      <td>323876.68</td>\n",
       "      <td>155752.60</td>\n",
       "    </tr>\n",
       "  </tbody>\n",
       "</table>\n",
       "</div>"
      ],
      "text/plain": [
       "   State  R&D Spend  Administration  Marketing Spend     Profit\n",
       "1      1  162597.70       151377.59        443898.53  191792.06\n",
       "2      0  153441.51       101145.55        407934.54  191050.39\n",
       "4      0  142107.34        91391.77        366168.42  166187.94\n",
       "6      1  134615.46       147198.87        127716.82  156122.51\n",
       "7      0  130298.13       145530.06        323876.68  155752.60"
      ]
     },
     "execution_count": 54,
     "metadata": {},
     "output_type": "execute_result"
    }
   ],
   "source": [
    "# Constructing the final dataset for learning and prediction\n",
    "\n",
    "# Concatenating two DataFrames 'df_one' and 'df_sel' along columns (axis=1)\n",
    "df_fin = pd.concat((df_one, df_sel), axis=1)\n",
    "\n",
    "# Dropping the column \"Florida\" from the dataset as it was not selected for the final model\n",
    "df_fin = df_fin.drop([\"Florida\"], axis=1)\n",
    "\n",
    "# Dropping the column \"State\" (assumed to be the original 'State' column) as it is not required in its original form\n",
    "df_fin = df_fin.drop([\"State\"], axis=1)\n",
    "\n",
    "# Renaming the column \"California\" to \"State\" as part of preparing the dataset for classification (1 for California, 0 for Florida)\n",
    "df_fin = df_fin.rename(columns={\"California\": \"State\"})\n",
    "\n",
    "# Displaying the initial rows of the modified final dataset\n",
    "df_fin.head()"
   ]
  },
  {
   "cell_type": "markdown",
   "id": "ffced933",
   "metadata": {
    "id": "ffced933"
   },
   "source": [
    "***Normalize***\n",
    "\n",
    "Divide by the absolute value of the maximum so that features are in \\[0, 1\\]"
   ]
  },
  {
   "cell_type": "code",
   "execution_count": 55,
   "id": "eb704286",
   "metadata": {
    "id": "eb704286"
   },
   "outputs": [],
   "source": [
    "def absolute_maximum_scale(series):\n",
    "    return series / series.abs().max()\n",
    "\n",
    "for col in df_fin.columns:\n",
    "    df_fin[col] = absolute_maximum_scale(df_fin[col])"
   ]
  },
  {
   "cell_type": "code",
   "execution_count": 56,
   "id": "5gURVDdmR52t",
   "metadata": {
    "id": "5gURVDdmR52t"
   },
   "outputs": [],
   "source": [
    "def absolute_maximum_scale(series):\n",
    "    \"\"\"\n",
    "    Scale each column in the DataFrame 'df_fin' by dividing the values by the absolute maximum value of that column.\n",
    "\n",
    "    Args:\n",
    "    series: A pandas Series or DataFrame column to be scaled.\n",
    "\n",
    "    Returns:\n",
    "    A scaled version of the input series with values ranging from -1 to 1 based on the maximum absolute value in the column.\n",
    "    \"\"\"\n",
    "    return series / series.abs().max()"
   ]
  },
  {
   "cell_type": "code",
   "execution_count": 57,
   "id": "vGQyMhhuR_5L",
   "metadata": {
    "id": "vGQyMhhuR_5L"
   },
   "outputs": [],
   "source": [
    "# Apply the 'absolute_maximum_scale' function to each column in the DataFrame 'df_fin'\n",
    "for col in df_fin.columns:\n",
    "    df_fin[col] = absolute_maximum_scale(df_fin[col])"
   ]
  },
  {
   "cell_type": "code",
   "execution_count": 58,
   "id": "421fc34c",
   "metadata": {
    "colab": {
     "base_uri": "https://localhost:8080/",
     "height": 206
    },
    "id": "421fc34c",
    "outputId": "4bdb8956-5059-46cd-d5ca-1ff06e2f3f18"
   },
   "outputs": [
    {
     "data": {
      "text/html": [
       "<div>\n",
       "<style scoped>\n",
       "    .dataframe tbody tr th:only-of-type {\n",
       "        vertical-align: middle;\n",
       "    }\n",
       "\n",
       "    .dataframe tbody tr th {\n",
       "        vertical-align: top;\n",
       "    }\n",
       "\n",
       "    .dataframe thead th {\n",
       "        text-align: right;\n",
       "    }\n",
       "</style>\n",
       "<table border=\"1\" class=\"dataframe\">\n",
       "  <thead>\n",
       "    <tr style=\"text-align: right;\">\n",
       "      <th></th>\n",
       "      <th>State</th>\n",
       "      <th>R&amp;D Spend</th>\n",
       "      <th>Administration</th>\n",
       "      <th>Marketing Spend</th>\n",
       "      <th>Profit</th>\n",
       "    </tr>\n",
       "  </thead>\n",
       "  <tbody>\n",
       "    <tr>\n",
       "      <th>1</th>\n",
       "      <td>1.0</td>\n",
       "      <td>1.000000</td>\n",
       "      <td>0.828805</td>\n",
       "      <td>1.000000</td>\n",
       "      <td>1.000000</td>\n",
       "    </tr>\n",
       "    <tr>\n",
       "      <th>2</th>\n",
       "      <td>0.0</td>\n",
       "      <td>0.943688</td>\n",
       "      <td>0.553781</td>\n",
       "      <td>0.918982</td>\n",
       "      <td>0.996133</td>\n",
       "    </tr>\n",
       "    <tr>\n",
       "      <th>4</th>\n",
       "      <td>0.0</td>\n",
       "      <td>0.873981</td>\n",
       "      <td>0.500378</td>\n",
       "      <td>0.824892</td>\n",
       "      <td>0.866501</td>\n",
       "    </tr>\n",
       "    <tr>\n",
       "      <th>6</th>\n",
       "      <td>1.0</td>\n",
       "      <td>0.827905</td>\n",
       "      <td>0.805926</td>\n",
       "      <td>0.287716</td>\n",
       "      <td>0.814020</td>\n",
       "    </tr>\n",
       "    <tr>\n",
       "      <th>7</th>\n",
       "      <td>0.0</td>\n",
       "      <td>0.801353</td>\n",
       "      <td>0.796789</td>\n",
       "      <td>0.729619</td>\n",
       "      <td>0.812091</td>\n",
       "    </tr>\n",
       "  </tbody>\n",
       "</table>\n",
       "</div>"
      ],
      "text/plain": [
       "   State  R&D Spend  Administration  Marketing Spend    Profit\n",
       "1    1.0   1.000000        0.828805         1.000000  1.000000\n",
       "2    0.0   0.943688        0.553781         0.918982  0.996133\n",
       "4    0.0   0.873981        0.500378         0.824892  0.866501\n",
       "6    1.0   0.827905        0.805926         0.287716  0.814020\n",
       "7    0.0   0.801353        0.796789         0.729619  0.812091"
      ]
     },
     "execution_count": 58,
     "metadata": {},
     "output_type": "execute_result"
    }
   ],
   "source": [
    "df_fin.head()"
   ]
  },
  {
   "cell_type": "code",
   "execution_count": 59,
   "id": "XouS4L7nSTzL",
   "metadata": {
    "colab": {
     "base_uri": "https://localhost:8080/"
    },
    "id": "XouS4L7nSTzL",
    "outputId": "3a51a8a4-e09e-437d-c684-165c8b0bb3cf"
   },
   "outputs": [
    {
     "data": {
      "text/plain": [
       "(33, 5)"
      ]
     },
     "execution_count": 59,
     "metadata": {},
     "output_type": "execute_result"
    }
   ],
   "source": [
    "df_fin.shape"
   ]
  },
  {
   "cell_type": "markdown",
   "id": "563bfeca",
   "metadata": {
    "id": "563bfeca"
   },
   "source": [
    "***Classification***"
   ]
  },
  {
   "cell_type": "markdown",
   "id": "5e3406c4",
   "metadata": {
    "id": "5e3406c4"
   },
   "source": [
    "Prepare the dataset:"
   ]
  },
  {
   "cell_type": "code",
   "execution_count": 60,
   "id": "bc04f61d",
   "metadata": {
    "id": "bc04f61d"
   },
   "outputs": [],
   "source": [
    "y = df_fin[\"State\"] # ground truth labels\n",
    "X = df_fin.drop([\"State\"], axis=1) # datapoints features\n",
    "# extract actual values from series\n",
    "y = y.values\n",
    "X = X.values"
   ]
  },
  {
   "cell_type": "markdown",
   "id": "7b65051f",
   "metadata": {
    "id": "7b65051f"
   },
   "source": [
    "Train test split\n",
    "\n",
    "$75\\%$ of the data are in the training set, the remaining $25\\%$ constitutes the test set."
   ]
  },
  {
   "cell_type": "code",
   "execution_count": 61,
   "id": "f11e105c",
   "metadata": {
    "id": "f11e105c"
   },
   "outputs": [],
   "source": [
    "from sklearn.model_selection import train_test_split\n",
    "\n",
    "# Splitting the dataset into training and testing sets\n",
    "# X represents the features (independent variables), and y represents the target (dependent variable).\n",
    "\n",
    "# Using train_test_split function to create the training and testing sets\n",
    "# X_train and y_train: Training features and labels\n",
    "# X_test and y_test: Testing features and labels\n",
    "\n",
    "# The 'test_size=0.25' parameter sets the proportion of the dataset to include in the test split. Here, 25% of the data is allocated to the test set.\n",
    "# The 'random_state=0' parameter sets the random seed for reproducibility of the split.\n",
    "\n",
    "X_train, X_test, y_train, y_test = train_test_split(X, y, test_size=0.25, random_state=0)\n"
   ]
  },
  {
   "cell_type": "markdown",
   "id": "5ee09c7e",
   "metadata": {
    "id": "5ee09c7e"
   },
   "source": [
    "Train the Logistic Regression Model"
   ]
  },
  {
   "cell_type": "code",
   "execution_count": 62,
   "id": "1d4b2d20",
   "metadata": {
    "id": "1d4b2d20"
   },
   "outputs": [],
   "source": [
    "from sklearn.linear_model import LogisticRegression"
   ]
  },
  {
   "cell_type": "code",
   "execution_count": 63,
   "id": "S71_9HAkSg7w",
   "metadata": {
    "id": "S71_9HAkSg7w"
   },
   "outputs": [],
   "source": [
    "# Creating a Logistic Regression model with specific parameters\n",
    "# - 'random_state=0' ensures reproducibility by setting the random seed.\n",
    "# - 'solver='lbfgs'' selects the optimization algorithm for the logistic regression.\n",
    "\n",
    "LR = LogisticRegression(random_state=0, solver='lbfgs').fit(X_train, y_train)\n",
    "\n",
    "# Predicting the target variable (y) using the Logistic Regression model on the test set (X_test).\n",
    "predictions = LR.predict(X_test)\n",
    "\n",
    "# Calculating and rounding the accuracy score of the Logistic Regression model on the test set.\n",
    "# The score is calculated by comparing the predicted values to the actual values (y_test).\n",
    "accuracy = round(LR.score(X_test, y_test), 4)\n"
   ]
  },
  {
   "cell_type": "markdown",
   "id": "6f9b7d00",
   "metadata": {
    "id": "6f9b7d00"
   },
   "source": [
    "***Plot results***"
   ]
  },
  {
   "cell_type": "markdown",
   "id": "0451a4ed",
   "metadata": {},
   "source": [
    "Correlation Matrix"
   ]
  },
  {
   "cell_type": "code",
   "execution_count": 64,
   "id": "fae229d6",
   "metadata": {
    "id": "fae229d6"
   },
   "outputs": [
    {
     "data": {
      "image/png": "[encoded data removed]",
      "text/plain": [
       "<Figure size 800x600 with 2 Axes>"
      ]
     },
     "metadata": {},
     "output_type": "display_data"
    }
   ],
   "source": [
    "correlation_matrix = np.corrcoef(X_train, rowvar=False)\n",
    "feature_names = df_fin.columns[1:5]\n",
    "\n",
    "plt.figure(figsize=(8, 6))\n",
    "plt.imshow(correlation_matrix, cmap='coolwarm', interpolation='none', aspect='equal', vmin=-1, vmax=1)\n",
    "plt.colorbar(label='Correlation Coefficient')\n",
    "\n",
    "plt.xticks(range(len(feature_names)), feature_names, rotation=45, ha='center')  # allineare\n",
    "plt.yticks(range(len(feature_names)), feature_names)\n",
    "ax = plt.gca()\n",
    "ax.xaxis.set_label_position('top')  # labels to the top\n",
    "ax.xaxis.tick_top()  # ticks at the top\n",
    "\n",
    "plt.title(\"Correlation Matrix Heatmap\",fontsize=16, fontweight='bold')\n",
    "plt.tight_layout()\n",
    "plt.show()"
   ]
  },
  {
   "cell_type": "markdown",
   "id": "c8fc4ea2",
   "metadata": {},
   "source": [
    "Confusion Matrix"
   ]
  },
  {
   "cell_type": "code",
   "execution_count": 65,
   "id": "4177feca",
   "metadata": {},
   "outputs": [
    {
     "data": {
      "image/png": "[encoded data removed]",
      "text/plain": [
       "<Figure size 640x480 with 2 Axes>"
      ]
     },
     "metadata": {},
     "output_type": "display_data"
    },
    {
     "data": {
      "text/plain": [
       "<Figure size 100x100 with 0 Axes>"
      ]
     },
     "metadata": {},
     "output_type": "display_data"
    }
   ],
   "source": [
    "from sklearn import metrics\n",
    "cm = metrics.confusion_matrix(y_test, predictions)\n",
    "disp = metrics.ConfusionMatrixDisplay(confusion_matrix=cm, display_labels=[\"Florida\", \"California\"])\n",
    "\n",
    "disp.plot(cmap='Blues')\n",
    "\n",
    "plt.title('Confusion Matrix - Model without regularization')\n",
    "plt.figure(figsize=(1, 1))\n",
    "plt.show()"
   ]
  },
  {
   "cell_type": "markdown",
   "id": "0a2a78f4",
   "metadata": {
    "id": "0a2a78f4"
   },
   "source": [
    "***Add regularization***\n",
    "\n",
    "Implement from scratch the regularized logistic regression model (with all the regularization techniques seen during the course)."
   ]
  },
  {
   "cell_type": "markdown",
   "id": "913a1d63",
   "metadata": {},
   "source": [
    "Loss functions:"
   ]
  },
  {
   "cell_type": "code",
   "execution_count": 66,
   "id": "6037bc85",
   "metadata": {},
   "outputs": [],
   "source": [
    "import numpy.linalg as LA\n",
    "\n",
    "def sigmoid(X, w, bias):\n",
    "    y = 1 / (1 + np.exp(-(np.dot(X, w) + bias)))\n",
    "    return y\n",
    "\n",
    "def logisticRidgeLoss(X, labels, w, bias, lam):\n",
    "    n = np.shape(X)[0]\n",
    "    cost = -(1/n)*np.sum(labels*np.log(sigmoid(X,w,bias)) + (1-labels)*np.log(1-sigmoid(X,w,bias))) + lam * LA.norm(w, 2)**2\n",
    "    return cost\n",
    "\n",
    "def logisticLassoLoss(X, labels, w, bias, lam):\n",
    "    n = np.shape(X)[0]\n",
    "    cost = -(1/n)*np.sum(labels*np.log(sigmoid(X,w,bias)) + (1-labels)*np.log(1-sigmoid(X,w,bias))) + (lam * LA.norm(w, 1))\n",
    "    return cost\n",
    "\n",
    "def logisticElasticNetLoss(X, labels, w, bias, lam, alpha):\n",
    "    n = np.shape(X)[0]\n",
    "    cost = -(1/n)*np.sum(labels*np.log(sigmoid(X,w,bias)) + (1-labels)*np.log(1-sigmoid(X,w, bias))) + (lam * ( alpha * LA.norm(w, 2)**2 + (1-alpha) * LA.norm(w, 1)))\n",
    "    return cost"
   ]
  },
  {
   "cell_type": "markdown",
   "id": "0a8163cc",
   "metadata": {},
   "source": [
    "Gradient Descent Logistic regression with regularization"
   ]
  },
  {
   "cell_type": "code",
   "execution_count": 67,
   "id": "68a3e1fa",
   "metadata": {
    "id": "68a3e1fa"
   },
   "outputs": [],
   "source": [
    "def penalty(w, p_type):\n",
    "    # evaluate penalty\n",
    "    if p_type == \"l2\": return w\n",
    "    elif p_type == \"l1\": return np.sign(w)\n",
    "    elif p_type[0] == \"ElNet\": return (p_type[1] * w) + ((1 - p_type[1]) * np.sign(w))\n",
    "    else: return 0\n",
    "\n",
    "\n",
    "def GD_fit(X, y, iter, lr, p_type, lam):\n",
    "    # given X_train and labels y_train, returns the weights W\n",
    "    \n",
    "    # gradient descent parameters: \n",
    "    # iter: number of iterations\n",
    "    # lr: learning rate\n",
    "    # lam: regularization parameter\n",
    "    \n",
    "    n_points, n_features = np.shape(X) # dimensions\n",
    "    w = np.zeros(n_features)\n",
    "    bias = 0\n",
    "    loss = []\n",
    "    \n",
    "    for i in range(iter):\n",
    "        # update w and b at each iteration\n",
    "        w -= (lr/n_points) * (np.dot(X.T, (sigmoid(X, w, bias) - y)) + lam * penalty(w, p_type))\n",
    "        bias -= (lr/n_points) * np.sum(sigmoid(X, w, bias) - y)\n",
    "        \n",
    "        if p_type == \"l2\": loss.append(logisticRidgeLoss(X, y, w, bias, lam))\n",
    "        elif p_type == \"l1\": loss.append(logisticLassoLoss(X, y, w, bias, lam))\n",
    "        elif p_type[0] == \"ElNet\": loss.append(logisticElasticNetLoss(X, y, w, bias, lam, p_type[1]))\n",
    "        \n",
    "    \n",
    "    return w, bias, loss\n",
    "        \n",
    "        \n",
    "def model_predict(X_test, w, bias, tr=0.5):\n",
    "    # given test points predict features at a certain trashold tr\n",
    "    \n",
    "    predict_proba = sigmoid(X_test, w, bias)\n",
    "    n_points = np.shape(predict_proba)[0]\n",
    "    predictions = np.zeros(n_points)\n",
    "    \n",
    "    for i in range(n_points): \n",
    "        if predict_proba[i] <= tr:\n",
    "            predictions[i] = 0\n",
    "        else:\n",
    "            predictions[i] = 1\n",
    "     \n",
    "    return predictions, predict_proba"
   ]
  },
  {
   "cell_type": "markdown",
   "id": "068b11e5",
   "metadata": {},
   "source": [
    "Ridge Regularization L2"
   ]
  },
  {
   "cell_type": "code",
   "execution_count": 68,
   "id": "bf9d3e27",
   "metadata": {},
   "outputs": [],
   "source": [
    "iter = 1000\n",
    "lr = 0.001 # learning rate\n",
    "lam = 0.01\n",
    "\n",
    "w_ridge, b_ridge, loss_ridge = GD_fit(X_train, y_train, iter, lr, \"l2\", lam)\n",
    "ridge_pred, ridge_proba = model_predict(X_test, w_ridge, b_ridge)"
   ]
  },
  {
   "cell_type": "markdown",
   "id": "38961443",
   "metadata": {},
   "source": [
    "Lasso Regularization L1"
   ]
  },
  {
   "cell_type": "code",
   "execution_count": 69,
   "id": "8b4acf12",
   "metadata": {},
   "outputs": [],
   "source": [
    "w_lasso, b_lasso, loss_lasso = GD_fit(X_train, y_train, iter, lr, \"l1\", lam)\n",
    "lasso_pred, lasso_proba = model_predict(X_test, w_ridge, b_ridge)"
   ]
  },
  {
   "cell_type": "markdown",
   "id": "995d0a4b",
   "metadata": {},
   "source": [
    "Elastic Net Regularization"
   ]
  },
  {
   "cell_type": "code",
   "execution_count": null,
   "id": "a398dfc8",
   "metadata": {},
   "outputs": [],
   "source": [
    "ratio = 0.5 # mixing factor of L2 and L1\n",
    "\n",
    "w_ElNet, b_ElNet, loss_ElNet = GD_fit(X_train, y_train, iter, lr, (\"ElNet\", ratio), lam)\n",
    "ElNet_pred, ElNet_proba = model_predict(X_test, w_ridge, b_ridge)"
   ]
  },
  {
   "cell_type": "markdown",
   "id": "924ec80e",
   "metadata": {},
   "source": [
    "Plot Loss over GD iterations"
   ]
  },
  {
   "cell_type": "code",
   "execution_count": 70,
   "id": "01340937",
   "metadata": {},
   "outputs": [
    {
     "data": {
      "image/png": "[encoded data removed]",
      "text/plain": [
       "<Figure size 1500x400 with 3 Axes>"
      ]
     },
     "metadata": {},
     "output_type": "display_data"
    }
   ],
   "source": [
    "fig, (ax1, ax2, ax3) = plt.subplots(1, 3, figsize=(15, 4))\n",
    "\n",
    "ax1.plot(loss_ridge, color='green')\n",
    "ax1.set_xlabel(\"GD iterations\")\n",
    "ax1.set_ylabel(\"Loss\")\n",
    "ax1.set_title(\"Loss Ridge reg.\")\n",
    "ax1.grid()\n",
    "\n",
    "ax2.plot(loss_lasso, color='red')\n",
    "ax2.set_xlabel(\"GD iterations\")\n",
    "ax2.set_ylabel(\"Loss\")\n",
    "ax2.set_title(\"Loss Lasso reg.\")\n",
    "ax2.grid()\n",
    "\n",
    "ax3.plot(loss_ElNet, color='purple')\n",
    "ax3.set_xlabel(\"GD iterations\")\n",
    "ax3.set_ylabel(\"Loss\")\n",
    "ax3.set_title(\"Loss Elastic Net\")\n",
    "ax3.grid()\n",
    "\n",
    "plt.tight_layout()\n",
    "plt.show()"
   ]
  },
  {
   "cell_type": "markdown",
   "id": "d208a7b9",
   "metadata": {
    "id": "d208a7b9"
   },
   "source": [
    "***ROC curve***\n",
    "\n",
    "Implement a function for producing the Receiver Operating Characteristic (ROC) curve.\n",
    "\n",
    "Given true and predicted values, plot the ROC curve using your implemented function."
   ]
  },
  {
   "cell_type": "code",
   "execution_count": 72,
   "id": "f3b04829",
   "metadata": {},
   "outputs": [],
   "source": [
    "def eval_fpr_tpr(X_test, y_test, weights, bias, reg):\n",
    "    \n",
    "    # Create TruePositiveRate, FalsePositiveRate, and tresholds between 0 and 1\n",
    "    fpr = []\n",
    "    tpr = []\n",
    "    thresholds = np.linspace(0, 1, 7200)\n",
    "    \n",
    "    for tr in thresholds:\n",
    "        # test model whit tr as trashold\n",
    "        if reg:\n",
    "            model_pred = model_predict(X_test, weights, bias, tr)[0] \n",
    "        else:\n",
    "            probs = LR.predict_proba(X_test)[:, 1]\n",
    "            model_pred = (probs >= tr).astype(int)\n",
    "        \n",
    "        tp = np.sum((model_pred == 1) & (y_test == 1))  # true positives\n",
    "        fp = np.sum((model_pred == 1) & (y_test == 0))  # false positives\n",
    "        tn = np.sum((model_pred == 0) & (y_test == 0))  # true negatives\n",
    "        fn = np.sum((model_pred == 0) & (y_test == 1))  # false negatives\n",
    "        \n",
    "        tpr.append(tp / (tp + fn) if (tp + fn) > 0 else 0)\n",
    "        fpr.append(fp / (fp + tn) if (fp + tn) > 0 else 0)\n",
    "        \n",
    "    return fpr, tpr"
   ]
  },
  {
   "cell_type": "markdown",
   "id": "58200fcd",
   "metadata": {},
   "source": [
    "plot ROC:"
   ]
  },
  {
   "cell_type": "code",
   "execution_count": 73,
   "id": "b2ea6428",
   "metadata": {},
   "outputs": [
    {
     "data": {
      "image/png": "[encoded data removed]",
      "text/plain": [
       "<Figure size 640x480 with 1 Axes>"
      ]
     },
     "metadata": {},
     "output_type": "display_data"
    }
   ],
   "source": [
    "fpr_noReg,  tpr_noReg = eval_fpr_tpr(X_test, y_test, weights=0, bias=0, reg=False)\n",
    "fpr_ridge,  tpr_ridge = eval_fpr_tpr(X_test, y_test, w_ridge, bias=b_ridge, reg=True)\n",
    "fpr_lasso,  tpr_lasso = eval_fpr_tpr(X_test, y_test, w_lasso, bias=b_lasso, reg=True)\n",
    "fpr_ElNet,  tpr_ElNet = eval_fpr_tpr(X_test, y_test, w_ElNet, bias=b_ElNet, reg=True)\n",
    "\n",
    "plt.plot(fpr_noReg, tpr_noReg, color='blue')\n",
    "plt.plot(fpr_ridge, tpr_ridge, color='green')\n",
    "plt.plot(fpr_lasso, tpr_lasso, linestyle=(0, (8, 5)), color='orange')\n",
    "\n",
    "plt.plot([0, 1], [0, 1], linestyle='--', color='gray')\n",
    "plt.title('ROC Curve')\n",
    "plt.xlabel('False Positive Rate')\n",
    "plt.ylabel('True Positive Rate')\n",
    "plt.legend([\"No reg.\", \"Ridge reg.\", \"Lasso reg.\", \"Random\"], loc='lower right')\n",
    "plt.show()"
   ]
  },
  {
   "cell_type": "markdown",
   "id": "d2dcce0b",
   "metadata": {},
   "source": [
    "plot confusion matrix"
   ]
  },
  {
   "cell_type": "code",
   "execution_count": 74,
   "id": "23f03abd",
   "metadata": {},
   "outputs": [
    {
     "data": {
      "image/png": "[encoded data removed]",
      "text/plain": [
       "<Figure size 640x480 with 2 Axes>"
      ]
     },
     "metadata": {},
     "output_type": "display_data"
    },
    {
     "data": {
      "text/plain": [
       "<Figure size 100x100 with 0 Axes>"
      ]
     },
     "metadata": {},
     "output_type": "display_data"
    }
   ],
   "source": [
    "cm = metrics.confusion_matrix(y_test, ElNet_pred)\n",
    "disp = metrics.ConfusionMatrixDisplay(confusion_matrix=cm, display_labels=[\"Florida\", \"California\"])\n",
    "\n",
    "disp.plot(cmap='Oranges')\n",
    "plt.title(\"Confusion Matrix Elastic Net\")\n",
    "plt.figure(figsize=(1, 1))\n",
    "\n",
    "plt.show()"
   ]
  },
  {
   "cell_type": "markdown",
   "id": "7a05776d",
   "metadata": {
    "id": "7a05776d"
   },
   "source": [
    "***Model assessment***\n",
    "\n",
    "Given true and predicted values, compute the most common classification metrics to assess the quality of your predictions."
   ]
  },
  {
   "cell_type": "code",
   "execution_count": 75,
   "id": "5f22f249",
   "metadata": {},
   "outputs": [],
   "source": [
    "def eval_accuracy(y_true, y_pred):\n",
    "    n_points = len(y_true)\n",
    "    \n",
    "    tp = np.sum((y_pred == 1) & (y_true == 1))  # true positives\n",
    "    fp = np.sum((y_pred == 1) & (y_true == 0))  # false positives\n",
    "    tn = np.sum((y_pred == 0) & (y_true == 0))  # true negatives\n",
    "    fn = np.sum((y_pred == 0) & (y_true == 1))  # false negatives\n",
    "    \n",
    "    accuracy = (tp+tn)/n_points\n",
    "    return round(accuracy, 3)"
   ]
  },
  {
   "cell_type": "markdown",
   "id": "7446cd96",
   "metadata": {},
   "source": [
    "evaluate the best threshold"
   ]
  },
  {
   "cell_type": "code",
   "execution_count": 76,
   "id": "16a5c8de",
   "metadata": {},
   "outputs": [
    {
     "name": "stdout",
     "output_type": "stream",
     "text": [
      "Best threshold for Ridge: 0.4805, Accuracy:  0.889\n",
      "Best threshold for Lasso: 0.4805, Accuracy:  0.889\n",
      "Best threshold for ElNet: 0.4805, Accuracy:  0.889\n"
     ]
    }
   ],
   "source": [
    "thresholds = np.linspace(0, 1, 900)\n",
    "\n",
    "best_acc_ridge = 0\n",
    "best_tr_ridge = 0\n",
    "for tr in thresholds:\n",
    "    i = eval_accuracy(y_test, model_predict(X_test, w_ridge, b_ridge, tr)[0] )\n",
    "    if i >= best_acc_ridge:\n",
    "        best_acc_ridge = i\n",
    "        best_tr_ridge = tr\n",
    "\n",
    "best_acc_lasso = 0\n",
    "best_tr_lasso = 0\n",
    "for tr in thresholds:\n",
    "    i = eval_accuracy(y_test, model_predict(X_test, w_lasso, b_lasso, tr)[0] )\n",
    "    if i >= best_acc_lasso:\n",
    "        best_acc_lasso = i\n",
    "        best_tr_lasso = tr\n",
    "        \n",
    "best_acc_ElNet = 0\n",
    "best_tr_ElNet = 0\n",
    "for tr in thresholds:\n",
    "    i = eval_accuracy(y_test, model_predict(X_test, w_ElNet, b_ElNet, tr)[0] )\n",
    "    if i >= best_acc_ElNet:\n",
    "        best_acc_ElNet = i\n",
    "        best_tr_ElNet = tr\n",
    "\n",
    "print(f\"Best threshold for Ridge: {round(best_tr_ridge, 4)}, Accuracy:  {best_acc_ridge}\")\n",
    "print(f\"Best threshold for Lasso: {round(best_tr_lasso, 4)}, Accuracy:  {best_acc_lasso}\")\n",
    "print(f\"Best threshold for ElNet: {round(best_tr_ElNet, 4)}, Accuracy:  {best_acc_ElNet}\")"
   ]
  },
  {
   "cell_type": "markdown",
   "id": "9d15d116",
   "metadata": {},
   "source": [
    "re-calculate prediction with best threshold"
   ]
  },
  {
   "cell_type": "code",
   "execution_count": 77,
   "id": "d5ebca19",
   "metadata": {},
   "outputs": [],
   "source": [
    "ridge_pred, ridge_proba = model_predict(X_test, w_ridge, b_ridge, tr=0.4805)\n",
    "lasso_pred, lasso_proba = model_predict(X_test, w_ridge, b_ridge, tr=0.4805)\n",
    "ElNet_pred, ElNet_proba = model_predict(X_test, w_ridge, b_ridge, tr=0.4805)"
   ]
  },
  {
   "cell_type": "code",
   "execution_count": 78,
   "id": "b3a864f9",
   "metadata": {
    "id": "b3a864f9"
   },
   "outputs": [
    {
     "name": "stdout",
     "output_type": "stream",
     "text": [
      "              precision    recall  f1-score   support\n",
      "\n",
      "  California       0.33      1.00      0.50         3\n",
      "     Florida       0.00      0.00      0.00         6\n",
      "\n",
      "    accuracy                           0.33         9\n",
      "   macro avg       0.17      0.50      0.25         9\n",
      "weighted avg       0.11      0.33      0.17         9\n",
      "\n",
      "0.333\n"
     ]
    },
    {
     "name": "stderr",
     "output_type": "stream",
     "text": [
      "/Users/matteovicenzino/Documents/UNI/3_anno_24_25/ML/venv/lib/python3.9/site-packages/sklearn/metrics/_classification.py:1531: UndefinedMetricWarning: Precision is ill-defined and being set to 0.0 in labels with no predicted samples. Use `zero_division` parameter to control this behavior.\n",
      "  _warn_prf(average, modifier, f\"{metric.capitalize()} is\", len(result))\n",
      "/Users/matteovicenzino/Documents/UNI/3_anno_24_25/ML/venv/lib/python3.9/site-packages/sklearn/metrics/_classification.py:1531: UndefinedMetricWarning: Precision is ill-defined and being set to 0.0 in labels with no predicted samples. Use `zero_division` parameter to control this behavior.\n",
      "  _warn_prf(average, modifier, f\"{metric.capitalize()} is\", len(result))\n",
      "/Users/matteovicenzino/Documents/UNI/3_anno_24_25/ML/venv/lib/python3.9/site-packages/sklearn/metrics/_classification.py:1531: UndefinedMetricWarning: Precision is ill-defined and being set to 0.0 in labels with no predicted samples. Use `zero_division` parameter to control this behavior.\n",
      "  _warn_prf(average, modifier, f\"{metric.capitalize()} is\", len(result))\n"
     ]
    }
   ],
   "source": [
    "from sklearn.metrics import classification_report\n",
    "y_true = y_test\n",
    "y_pred = LR.predict(X_test)\n",
    "\n",
    "target_names = ['California', 'Florida']\n",
    "print(classification_report(y_true, y_pred, target_names=target_names))\n",
    "\n",
    "print(eval_accuracy(y_true, y_pred))"
   ]
  },
  {
   "cell_type": "markdown",
   "id": "q8gI_LEMJsB-",
   "metadata": {
    "id": "q8gI_LEMJsB-"
   },
   "source": [
    "Repeat the previous task for regularized logistic regression and compare the results."
   ]
  },
  {
   "cell_type": "code",
   "execution_count": 79,
   "id": "AWSiwxDUJrZz",
   "metadata": {
    "id": "AWSiwxDUJrZz"
   },
   "outputs": [
    {
     "name": "stdout",
     "output_type": "stream",
     "text": [
      "              precision    recall  f1-score   support\n",
      "\n",
      "  California       1.00      0.67      0.80         3\n",
      "     Florida       0.86      1.00      0.92         6\n",
      "\n",
      "    accuracy                           0.89         9\n",
      "   macro avg       0.93      0.83      0.86         9\n",
      "weighted avg       0.90      0.89      0.88         9\n",
      "\n",
      "0.889\n"
     ]
    }
   ],
   "source": [
    "print(classification_report(y_true, ridge_pred, target_names=target_names))\n",
    "print(eval_accuracy(y_true, ridge_pred))"
   ]
  },
  {
   "cell_type": "code",
   "execution_count": 80,
   "id": "72135ab0",
   "metadata": {},
   "outputs": [
    {
     "name": "stdout",
     "output_type": "stream",
     "text": [
      "              precision    recall  f1-score   support\n",
      "\n",
      "  California       1.00      0.67      0.80         3\n",
      "     Florida       0.86      1.00      0.92         6\n",
      "\n",
      "    accuracy                           0.89         9\n",
      "   macro avg       0.93      0.83      0.86         9\n",
      "weighted avg       0.90      0.89      0.88         9\n",
      "\n",
      "0.889\n"
     ]
    }
   ],
   "source": [
    "print(classification_report(y_true, lasso_pred, target_names=target_names))\n",
    "print(eval_accuracy(y_true, lasso_pred))"
   ]
  },
  {
   "cell_type": "code",
   "execution_count": 81,
   "id": "545b7876",
   "metadata": {},
   "outputs": [
    {
     "name": "stdout",
     "output_type": "stream",
     "text": [
      "              precision    recall  f1-score   support\n",
      "\n",
      "  California       1.00      0.67      0.80         3\n",
      "     Florida       0.86      1.00      0.92         6\n",
      "\n",
      "    accuracy                           0.89         9\n",
      "   macro avg       0.93      0.83      0.86         9\n",
      "weighted avg       0.90      0.89      0.88         9\n",
      "\n",
      "0.889\n"
     ]
    }
   ],
   "source": [
    "print(classification_report(y_true, ElNet_pred, target_names=target_names))\n",
    "print(eval_accuracy(y_true, ElNet_pred))"
   ]
  },
  {
   "cell_type": "markdown",
   "id": "cd40caec",
   "metadata": {},
   "source": [
    "Confusion Matrix of regularized models"
   ]
  },
  {
   "cell_type": "code",
   "execution_count": 82,
   "id": "1eeba662",
   "metadata": {},
   "outputs": [
    {
     "data": {
      "image/png": "[encoded data removed]",
      "text/plain": [
       "<Figure size 640x480 with 2 Axes>"
      ]
     },
     "metadata": {},
     "output_type": "display_data"
    },
    {
     "data": {
      "text/plain": [
       "<Figure size 100x100 with 0 Axes>"
      ]
     },
     "metadata": {},
     "output_type": "display_data"
    }
   ],
   "source": [
    "cm = metrics.confusion_matrix(y_test, ridge_pred)\n",
    "disp = metrics.ConfusionMatrixDisplay(confusion_matrix=cm, display_labels=[\"Florida\", \"California\"])\n",
    "\n",
    "disp.plot(cmap='Greens')\n",
    "plt.title(\"Confusion Matrix - Model with Ridge regularization\")\n",
    "plt.figure(figsize=(1, 1))\n",
    "\n",
    "plt.show()"
   ]
  }
 ],
 "metadata": {
  "colab": {
   "provenance": []
  },
  "kernelspec": {
   "display_name": "venv",
   "language": "python",
   "name": "python3"
  },
  "language_info": {
   "codemirror_mode": {
    "name": "ipython",
    "version": 3
   },
   "file_extension": ".py",
   "mimetype": "text/x-python",
   "name": "python",
   "nbconvert_exporter": "python",
   "pygments_lexer": "ipython3",
   "version": "3.9.20"
  }
 },
 "nbformat": 4,
 "nbformat_minor": 5
}
